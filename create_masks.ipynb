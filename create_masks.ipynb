{
 "cells": [
  {
   "cell_type": "code",
   "execution_count": null,
   "metadata": {},
   "outputs": [],
   "source": [
    "import rasterio\n",
    "import geopandas as gpd\n",
    "from rasterio.features import rasterize\n",
    "import numpy as np\n",
    "\n",
    "def create_roof_mask(image_path, geojson_path, output_path):\n",
    "    # load satellite image metadata\n",
    "    with rasterio.open(image_path) as src:\n",
    "        crs = src.crs\n",
    "        transform = src.transform\n",
    "        width = src.width\n",
    "        height = src.height\n",
    "\n",
    "    # load and reproject GeoJSON\n",
    "    gdf = gpd.read_file(geojson_path).to_crs(crs)\n",
    "    \n",
    "    # create class mapping\n",
    "    materials = gdf['roof_material'].unique()\n",
    "    class_mapping = {mat: i+1 for i, mat in enumerate(materials)}\n",
    "\n",
    "    print(class_mapping)\n",
    "    \n",
    "\n",
    "    shapes = [(geom, class_mapping[roof]) \n",
    "              for geom, roof in zip(gdf.geometry, gdf[\"roof_material\"])]\n",
    "\n",
    "    mask = rasterize(\n",
    "        shapes=shapes,\n",
    "        out_shape=(height, width),\n",
    "        transform=transform,\n",
    "        fill=0,  # background value\n",
    "        dtype=np.uint8,\n",
    "        all_touched=True\n",
    "    )\n",
    "\n",
    "    # save mask\n",
    "    with rasterio.open(output_path, 'w', \n",
    "                       driver='GTiff',\n",
    "                       height=height,\n",
    "                       width=width,\n",
    "                       count=1,\n",
    "                       dtype=np.uint8,\n",
    "                       crs=crs,\n",
    "                       transform=transform) as dst:\n",
    "        dst.write(mask, 1)\n",
    "\n",
    "satellite_image_file_path = '' #iterate through satellite images here!\n",
    "create_roof_mask(satellite_image_file_path, \"filtered_categories_buildings.geojson\", \"roof_mask.tif\")"
   ]
  }
 ],
 "metadata": {
  "kernelspec": {
   "display_name": "roofmapvenv",
   "language": "python",
   "name": "python3"
  },
  "language_info": {
   "name": "python",
   "version": "3.11.7"
  }
 },
 "nbformat": 4,
 "nbformat_minor": 2
}
