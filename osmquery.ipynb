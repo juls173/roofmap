{
 "cells": [
  {
   "cell_type": "markdown",
   "metadata": {},
   "source": [
    "Let's first get all the roofs that have a roof:material OpenStreetMap(OSM) tag in Nepal. We will be using the Overpass API, which allows us to fetch data from OSM. More information about the Overpass API query language and other examples can be found here: https://wiki.openstreetmap.org/wiki/Overpass_API/Overpass_API_by_Example."
   ]
  },
  {
   "cell_type": "code",
   "execution_count": 4,
   "metadata": {},
   "outputs": [
    {
     "name": "stdout",
     "output_type": "stream",
     "text": [
      "total buildings queried: 26478\n",
      "first 4 buildings: [{'id': 112551795, 'roof_material': 'metal', 'geometry': [(27.7102375, 85.3093988), (27.7103155, 85.3091665), (27.7102236, 85.3091271), (27.7102006, 85.3091955), (27.7100299, 85.3091224), (27.710057, 85.3090418), (27.7099343, 85.3089893), (27.7099089, 85.3090648), (27.7097037, 85.3089769), (27.7097221, 85.3089221), (27.7096405, 85.3088871), (27.7095682, 85.3091026), (27.7096532, 85.309139), (27.7096701, 85.3090887), (27.7098548, 85.3091677), (27.7098383, 85.3092166), (27.7099668, 85.3092716), (27.7099805, 85.3092309), (27.7101726, 85.3093131), (27.7101556, 85.3093637), (27.7102375, 85.3093988)]}, {'id': 120277868, 'roof_material': 'mixed', 'geometry': [(27.7165969, 85.3121085), (27.7166264, 85.3118218), (27.71661, 85.311798), (27.7165781, 85.3117935), (27.7165282, 85.3117865), (27.716532, 85.3117515), (27.7164593, 85.3117413), (27.7164383, 85.3119327), (27.7163399, 85.3119189), (27.7163325, 85.3120623), (27.7165969, 85.3121085)]}, {'id': 120278028, 'roof_material': 'concrete', 'geometry': [(27.7130161, 85.3104654), (27.7124889, 85.3104948), (27.7124819, 85.3103365), (27.7130092, 85.3103071), (27.7130161, 85.3104654)]}]\n"
     ]
    }
   ],
   "source": [
    "import overpy\n",
    "\n",
    "api = overpy.Overpass()\n",
    "\n",
    "# define query to get buildings with roof:material in Nepal, using the bounding box (26.347, 80.0585, 30.446, 88.2015)\n",
    "# change the bounding box coordinates to get data from your desired study area (min latitude, min longitude, max latitude, max longitude)\n",
    "query = \"\"\"\n",
    "[out:json][timeout:180];\n",
    "(\n",
    "  way[\"building\"][\"roof:material\"](27.011307, 83.330253, 28.262288, 86.529824);\n",
    ");\n",
    "out body;\n",
    ">;\n",
    "out skel qt;\n",
    "\"\"\"\n",
    "\n",
    "response = api.query(query)\n",
    "\n",
    "# extract building ids and roof materials\n",
    "buildings = []\n",
    "for way in response.ways:\n",
    "    building = {\n",
    "        \"id\": way.id,\n",
    "        \"roof_material\": way.tags.get(\"roof:material\", \"unknown\"),\n",
    "        \"geometry\": [(float(node.lat), float(node.lon)) for node in way.nodes] #convert to float, because node.lon and node.lat are Decimal() objects by default\n",
    "    }\n",
    "    buildings.append(building)\n",
    "\n",
    "# Oy\n",
    "print(f\"total buildings queried: {len(buildings)}\")\n",
    "print(f\"first 4 buildings: {buildings[0:3]}\")"
   ]
  },
  {
   "cell_type": "markdown",
   "metadata": {},
   "source": [
    "Next, we should convert the building geometries to a geopandas dataframe for future geospatial operations and to be able to better access/manipulate the data"
   ]
  },
  {
   "cell_type": "code",
   "execution_count": 3,
   "metadata": {},
   "outputs": [
    {
     "data": {
      "text/html": [
       "<div>\n",
       "<style scoped>\n",
       "    .dataframe tbody tr th:only-of-type {\n",
       "        vertical-align: middle;\n",
       "    }\n",
       "\n",
       "    .dataframe tbody tr th {\n",
       "        vertical-align: top;\n",
       "    }\n",
       "\n",
       "    .dataframe thead th {\n",
       "        text-align: right;\n",
       "    }\n",
       "</style>\n",
       "<table border=\"1\" class=\"dataframe\">\n",
       "  <thead>\n",
       "    <tr style=\"text-align: right;\">\n",
       "      <th></th>\n",
       "      <th>roof_material</th>\n",
       "      <th>geometry</th>\n",
       "    </tr>\n",
       "  </thead>\n",
       "  <tbody>\n",
       "    <tr>\n",
       "      <th>0</th>\n",
       "      <td>metal</td>\n",
       "      <td>POLYGON ((85.3094 27.71024, 85.30917 27.71032,...</td>\n",
       "    </tr>\n",
       "    <tr>\n",
       "      <th>1</th>\n",
       "      <td>mixed</td>\n",
       "      <td>POLYGON ((85.31211 27.7166, 85.31182 27.71663,...</td>\n",
       "    </tr>\n",
       "    <tr>\n",
       "      <th>2</th>\n",
       "      <td>concrete</td>\n",
       "      <td>POLYGON ((85.31047 27.71302, 85.31049 27.71249...</td>\n",
       "    </tr>\n",
       "    <tr>\n",
       "      <th>3</th>\n",
       "      <td>concrete</td>\n",
       "      <td>POLYGON ((85.35044 27.70559, 85.35041 27.70553...</td>\n",
       "    </tr>\n",
       "    <tr>\n",
       "      <th>4</th>\n",
       "      <td>stone</td>\n",
       "      <td>POLYGON ((85.32491 27.6737, 85.32488 27.67358,...</td>\n",
       "    </tr>\n",
       "  </tbody>\n",
       "</table>\n",
       "</div>"
      ],
      "text/plain": [
       "  roof_material                                           geometry\n",
       "0         metal  POLYGON ((85.3094 27.71024, 85.30917 27.71032,...\n",
       "1         mixed  POLYGON ((85.31211 27.7166, 85.31182 27.71663,...\n",
       "2      concrete  POLYGON ((85.31047 27.71302, 85.31049 27.71249...\n",
       "3      concrete  POLYGON ((85.35044 27.70559, 85.35041 27.70553...\n",
       "4         stone  POLYGON ((85.32491 27.6737, 85.32488 27.67358,..."
      ]
     },
     "execution_count": 3,
     "metadata": {},
     "output_type": "execute_result"
    }
   ],
   "source": [
    "import geopandas as gpd\n",
    "from shapely.geometry import Polygon\n",
    "\n",
    "# create a list of shapely Polygons with each building[\"geometry\"] being a list of coordinates\n",
    "geometries = [Polygon(building[\"geometry\"]) for building in buildings]\n",
    "roof_materials = [building[\"roof_material\"] for building in buildings]\n",
    "\n",
    "buildings_gdf = gpd.GeoDataFrame({\"roof_material\": roof_materials}, geometry=geometries)\n",
    "buildings_gdf.crs = \"EPSG:4326\"\n",
    "\n",
    "buildings_gdf.head()"
   ]
  }
 ],
 "metadata": {
  "kernelspec": {
   "display_name": "roofmapvenv",
   "language": "python",
   "name": "python3"
  },
  "language_info": {
   "codemirror_mode": {
    "name": "ipython",
    "version": 3
   },
   "file_extension": ".py",
   "mimetype": "text/x-python",
   "name": "python",
   "nbconvert_exporter": "python",
   "pygments_lexer": "ipython3",
   "version": "3.11.7"
  }
 },
 "nbformat": 4,
 "nbformat_minor": 2
}
