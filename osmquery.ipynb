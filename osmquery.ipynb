{
 "cells": [
  {
   "cell_type": "markdown",
   "metadata": {},
   "source": [
    "Let's first get all the roofs that have a roof:material OpenStreetMap(OSM) tag in Nepal. We will be using the Overpass API, which allows us to fetch data from OSM. More information about the "
   ]
  },
  {
   "cell_type": "code",
   "execution_count": 8,
   "metadata": {},
   "outputs": [
    {
     "name": "stdout",
     "output_type": "stream",
     "text": [
      "total buildings queried: 26478\n",
      "first 4 buildings: [{'id': 112551795, 'roof_material': 'metal', 'geometry': [(85.3093988, 27.7102375), (85.3091665, 27.7103155), (85.3091271, 27.7102236), (85.3091955, 27.7102006), (85.3091224, 27.7100299), (85.3090418, 27.710057), (85.3089893, 27.7099343), (85.3090648, 27.7099089), (85.3089769, 27.7097037), (85.3089221, 27.7097221), (85.3088871, 27.7096405), (85.3091026, 27.7095682), (85.309139, 27.7096532), (85.3090887, 27.7096701), (85.3091677, 27.7098548), (85.3092166, 27.7098383), (85.3092716, 27.7099668), (85.3092309, 27.7099805), (85.3093131, 27.7101726), (85.3093637, 27.7101556), (85.3093988, 27.7102375)]}, {'id': 120277868, 'roof_material': 'mixed', 'geometry': [(85.3121085, 27.7165969), (85.3118218, 27.7166264), (85.311798, 27.71661), (85.3117935, 27.7165781), (85.3117865, 27.7165282), (85.3117515, 27.716532), (85.3117413, 27.7164593), (85.3119327, 27.7164383), (85.3119189, 27.7163399), (85.3120623, 27.7163325), (85.3121085, 27.7165969)]}, {'id': 120278028, 'roof_material': 'concrete', 'geometry': [(85.3104654, 27.7130161), (85.3104948, 27.7124889), (85.3103365, 27.7124819), (85.3103071, 27.7130092), (85.3104654, 27.7130161)]}]\n"
     ]
    }
   ],
   "source": [
    "import overpy\n",
    "\n",
    "api = overpy.Overpass()\n",
    "\n",
    "# define query to get buildings with roof:material in Nepal, using the bounding box (26.347, 80.0585, 30.446, 88.2015)\n",
    "# change the bounding box coordinates to get data from your desired study area (min latitude, min longitude, max latitude, max longitude)\n",
    "query = \"\"\"\n",
    "[out:json][timeout:180];\n",
    "(\n",
    "  way[\"building\"][\"roof:material\"](27.011307, 83.330253, 28.262288, 86.529824);\n",
    ");\n",
    "out body;\n",
    ">;\n",
    "out skel qt;\n",
    "\"\"\"\n",
    "\n",
    "response = api.query(query)\n",
    "\n",
    "# extract building ids and roof materials\n",
    "buildings = []\n",
    "for way in response.ways:\n",
    "    building = {\n",
    "        \"id\": way.id,\n",
    "        \"roof_material\": way.tags.get(\"roof:material\", \"unknown\"),\n",
    "        \"geometry\": [(float(node.lon), float(node.lat)) for node in way.nodes] #convert to float, because node.lon and node.lat are Decimal() objects by default\n",
    "    }\n",
    "    buildings.append(building)\n",
    "\n",
    "# Oy\n",
    "print(f\"total buildings queried: {len(buildings)}\")\n",
    "print(f\"first 4 buildings: {buildings[0:3]}\")"
   ]
  },
  {
   "cell_type": "markdown",
   "metadata": {},
   "source": [
    "Next, we should convert the building geometries to a geopandas dataframe for future geospatial operations and to better access the data in the future"
   ]
  },
  {
   "cell_type": "code",
   "execution_count": 13,
   "metadata": {},
   "outputs": [],
   "source": [
    "import geopandas as gpd\n",
    "from shapely.geometry import Polygon\n",
    "\n",
    "# create a list of shapely Polygons with each building[\"geometry\"] being a list of coordinates\n",
    "geometries = [Polygon(building[\"geometry\"]) for building in buildings]\n",
    "roof_materials = [building[\"roof_material\"] for building in buildings]\n",
    "\n",
    "buildings_gdf = gpd.GeoDataFrame({\"roof_material\": roof_materials}, geometry=geometries)\n",
    "buildings_gdf.crs = \"EPSG:4326\"\n"
   ]
  },
  {
   "cell_type": "code",
   "execution_count": null,
   "metadata": {},
   "outputs": [],
   "source": []
  }
 ],
 "metadata": {
  "kernelspec": {
   "display_name": "roofmapvenv",
   "language": "python",
   "name": "python3"
  },
  "language_info": {
   "codemirror_mode": {
    "name": "ipython",
    "version": 3
   },
   "file_extension": ".py",
   "mimetype": "text/x-python",
   "name": "python",
   "nbconvert_exporter": "python",
   "pygments_lexer": "ipython3",
   "version": "3.11.7"
  }
 },
 "nbformat": 4,
 "nbformat_minor": 2
}
